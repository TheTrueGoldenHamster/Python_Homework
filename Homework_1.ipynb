{
 "cells": [
  {
   "cell_type": "markdown",
   "metadata": {},
   "source": [
    "### Задание 1"
   ]
  },
  {
   "cell_type": "code",
   "execution_count": 11,
   "metadata": {},
   "outputs": [
    {
     "name": "stdout",
     "output_type": "stream",
     "text": [
      "Фраза 1 длиннее фразы 2\n"
     ]
    }
   ],
   "source": [
    "phrase_1 = 'Насколько проще было бы писать программы, если бы не заказчики'\n",
    "phrase_2 = '640Кб должно хватить для любых задач. Билл Гейтс (по легенде)'\n",
    "\n",
    "if len(phrase_1) > len(phrase_2):\n",
    "    print('Фраза 1 длиннее фразы 2')\n",
    "elif len(phrase_1) < len(phrase_2):\n",
    "    print('Фраза 2 длиннее фразы 1')\n",
    "else:\n",
    "    print('Фразы равны')"
   ]
  },
  {
   "cell_type": "code",
   "execution_count": 12,
   "metadata": {},
   "outputs": [
    {
     "name": "stdout",
     "output_type": "stream",
     "text": [
      "Фраза 2 длиннее фразы 1\n"
     ]
    }
   ],
   "source": [
    "phrase_1 = '640Кб должно хватить для любых задач. Билл Гейтс (по легенде)'\n",
    "phrase_2 = 'Насколько проще было бы писать программы, если бы не заказчики'\n",
    "\n",
    "if len(phrase_1) > len(phrase_2):\n",
    "    print('Фраза 1 длиннее фразы 2')\n",
    "elif len(phrase_1) < len(phrase_2):\n",
    "    print('Фраза 2 длиннее фразы 1')\n",
    "else:\n",
    "    print('Фразы равны')"
   ]
  },
  {
   "cell_type": "code",
   "execution_count": 13,
   "metadata": {},
   "outputs": [
    {
     "name": "stdout",
     "output_type": "stream",
     "text": [
      "Фразы равны\n"
     ]
    }
   ],
   "source": [
    "phrase_1 = 'Насколько проще было бы писать программы, если бы не заказчики'\n",
    "phrase_2 = 'Насколько проще было бы писать программы, если бы не заказчики'\n",
    "\n",
    "if len(phrase_1) > len(phrase_2):\n",
    "    print('Фраза 1 длиннее фразы 2')\n",
    "elif len(phrase_1) < len(phrase_2):\n",
    "    print('Фраза 2 длиннее фразы 1')\n",
    "else:\n",
    "    print('Фразы равны')"
   ]
  },
  {
   "cell_type": "markdown",
   "metadata": {},
   "source": [
    "### Задание 2"
   ]
  },
  {
   "cell_type": "code",
   "execution_count": 19,
   "metadata": {},
   "outputs": [
    {
     "name": "stdout",
     "output_type": "stream",
     "text": [
      "Високосный год\n"
     ]
    }
   ],
   "source": [
    "import calendar\n",
    "\n",
    "year = 2020\n",
    "if calendar.isleap(year) is True:\n",
    "    print('Високосный год')\n",
    "else:\n",
    "    print('Обычный год')"
   ]
  },
  {
   "cell_type": "code",
   "execution_count": 25,
   "metadata": {},
   "outputs": [
    {
     "name": "stdout",
     "output_type": "stream",
     "text": [
      "Обычный год\n"
     ]
    }
   ],
   "source": [
    "import calendar\n",
    "\n",
    "year = 2019\n",
    "if calendar.isleap(year) is True:\n",
    "    print('Високосный год')\n",
    "else:\n",
    "    print('Обычный год')"
   ]
  },
  {
   "cell_type": "markdown",
   "metadata": {},
   "source": [
    "### Задание 3"
   ]
  },
  {
   "cell_type": "code",
   "execution_count": 45,
   "metadata": {},
   "outputs": [
    {
     "name": "stdout",
     "output_type": "stream",
     "text": [
      "Введите день   32\n",
      "Введите месяц   Октябрь\n",
      "Дата введена неверно\n"
     ]
    }
   ],
   "source": [
    "user_input_day = int(input('Введите день  '))\n",
    "user_input_month = str(input('Введите месяц  '))\n",
    "if user_input_day > 20 and user_input_day < 32 and user_input_month == 'Январь':\n",
    "    print('Ваш знак зодиака: Водолей')\n",
    "elif user_input_day < 20 and user_input_month == 'Февраль':\n",
    "    print('Ваш знак зодиака: Водолей')\n",
    "elif user_input_day > 19 and user_input_day < 30 and user_input_month == 'Февраль':\n",
    "    print('Ваш знак зодиака: Рыбы')\n",
    "elif user_input_day < 21 and user_input_month == 'Март':\n",
    "    print('Ваш знак зодиака: Рыбы')\n",
    "elif user_input_day > 20 and user_input_day < 32 and user_input_month == 'Март':\n",
    "    print('Ваш знак зодиака: Овен')\n",
    "elif user_input_day < 21 and user_input_month == 'Апрель':\n",
    "    print('Ваш знак зодиака: Овен')\n",
    "elif user_input_day > 20 and user_input_day < 31 and user_input_month == 'Апрель':\n",
    "    print('Ваш знак зодиака: Телец')\n",
    "elif user_input_day < 22 and user_input_month == 'Май':\n",
    "    print('Ваш знак зодиака: Телец')\n",
    "elif user_input_day > 21 and user_input_day < 32 and user_input_month == 'Май':\n",
    "    print('Ваш знак зодиака: Близнецы')\n",
    "elif user_input_day < 22 and user_input_month == 'Июнь':\n",
    "    print('Ваш знак зодиака: Близнецы')\n",
    "elif user_input_day > 21 and user_input_day < 31 and user_input_month == 'Июнь':\n",
    "    print('Ваш знак зодиака: Рак')\n",
    "elif user_input_day < 23 and user_input_month == 'Июль':\n",
    "    print('Ваш знак зодиака: Рак')\n",
    "elif user_input_day > 22 and user_input_day < 32 and user_input_month == 'Июль':\n",
    "    print('Ваш знак зодиака: Лев')\n",
    "elif user_input_day < 23 and user_input_month == 'Август':\n",
    "    print('Ваш знак зодиака: Лев')\n",
    "elif user_input_day > 22 and user_input_day < 32 and user_input_month == 'Август':\n",
    "    print('Ваш знак зодиака: Дева')\n",
    "elif user_input_day < 23 and user_input_month == 'Сентябрь':\n",
    "    print('Ваш знак зодиака: Дева')\n",
    "elif user_input_day > 22 and user_input_day < 31 and user_input_month == 'Сентябрь':\n",
    "    print('Ваш знак зодиака: Весы')\n",
    "elif user_input_day < 23 and user_input_month == 'Октябрь':\n",
    "    print('Ваш знак зодиака: Весы')\n",
    "elif user_input_day > 22 and user_input_day < 32 and user_input_month == 'Октябрь':\n",
    "    print('Ваш знак зодиака: Скорпион')\n",
    "elif user_input_day < 23 and user_input_month == 'Ноябрь':\n",
    "    print('Ваш знак зодиака: Скорпион')\n",
    "elif user_input_day > 22 and user_input_day < 31 and user_input_month == 'Ноябрь':\n",
    "    print('Ваш знак зодиака: Стрелец')\n",
    "elif user_input_day < 22 and user_input_month == 'Декабрь':\n",
    "    print('Ваш знак зодиака: Стрелец')\n",
    "elif user_input_day > 21 and user_input_day < 31 and user_input_month == 'Декабрь':\n",
    "    print('Ваш знак зодиака: Козерог')\n",
    "elif user_input_day < 21 and user_input_month == 'Январь':\n",
    "    print('Ваш знак зодиака: Козерог')\n",
    "else:\n",
    "    print('Дата введена неверно')"
   ]
  },
  {
   "cell_type": "markdown",
   "metadata": {},
   "source": [
    "### Задание 4"
   ]
  },
  {
   "cell_type": "code",
   "execution_count": 47,
   "metadata": {},
   "outputs": [
    {
     "name": "stdout",
     "output_type": "stream",
     "text": [
      "Стандартная коробка №3\n"
     ]
    }
   ],
   "source": [
    "width = 15\n",
    "length = 50\n",
    "height = 15\n",
    "\n",
    "a = width\n",
    "b = length\n",
    "c = height\n",
    "\n",
    "if a < 15 and b < 15 and c < 15:\n",
    "    print('Коробка №1')\n",
    "elif a < 50 and b < 50 and c < 50:\n",
    "    print('Коробка №2')\n",
    "elif b > 200:\n",
    "    print('Упаковка для лыж')\n",
    "else:\n",
    "    print('Стандартная коробка №3')"
   ]
  },
  {
   "cell_type": "code",
   "execution_count": 48,
   "metadata": {},
   "outputs": [
    {
     "name": "stdout",
     "output_type": "stream",
     "text": [
      "Коробка №2\n"
     ]
    }
   ],
   "source": [
    "width = 17\n",
    "length = 14\n",
    "height = 10\n",
    "\n",
    "a = width\n",
    "b = length\n",
    "c = height\n",
    "\n",
    "if a < 15 and b < 15 and c < 15:\n",
    "    print('Коробка №1')\n",
    "elif a < 50 and b < 50 and c < 50:\n",
    "    print('Коробка №2')\n",
    "elif b > 200:\n",
    "    print('Упаковка для лыж')\n",
    "else:\n",
    "    print('Стандартная коробка №3')"
   ]
  },
  {
   "cell_type": "code",
   "execution_count": 51,
   "metadata": {},
   "outputs": [
    {
     "name": "stdout",
     "output_type": "stream",
     "text": [
      "Упаковка для лыж\n"
     ]
    }
   ],
   "source": [
    "width = 35\n",
    "length = 201\n",
    "height = 55\n",
    "\n",
    "a = width\n",
    "b = length\n",
    "c = height\n",
    "\n",
    "if a < 15 and b < 15 and c < 15:\n",
    "    print('Коробка №1')\n",
    "elif a < 50 and b < 50 and c < 50:\n",
    "    print('Коробка №2')\n",
    "elif b > 200:\n",
    "    print('Упаковка для лыж')\n",
    "else:\n",
    "    print('Стандартная коробка №3')"
   ]
  },
  {
   "cell_type": "code",
   "execution_count": 52,
   "metadata": {},
   "outputs": [
    {
     "name": "stdout",
     "output_type": "stream",
     "text": [
      "Коробка №1\n"
     ]
    }
   ],
   "source": [
    "width = 14\n",
    "length = 10\n",
    "height = 5\n",
    "\n",
    "a = width\n",
    "b = length\n",
    "c = height\n",
    "\n",
    "if a < 15 and b < 15 and c < 15:\n",
    "    print('Коробка №1')\n",
    "elif a < 50 and b < 50 and c < 50:\n",
    "    print('Коробка №2')\n",
    "elif b > 200:\n",
    "    print('Упаковка для лыж')\n",
    "else:\n",
    "    print('Стандартная коробка №3')"
   ]
  },
  {
   "cell_type": "markdown",
   "metadata": {},
   "source": [
    "### Задание 5"
   ]
  },
  {
   "cell_type": "code",
   "execution_count": 3,
   "metadata": {},
   "outputs": [
    {
     "name": "stdout",
     "output_type": "stream",
     "text": [
      "Несчастливый билет\n"
     ]
    }
   ],
   "source": [
    "number = 123456\n",
    "\n",
    "a = str(number)\n",
    "\n",
    "left = int(a[0]) + int(a[1]) + int(a[2])\n",
    "right = int(a[-1]) + int(a[-2]) + int(a[-3])\n",
    "\n",
    "if left == right:\n",
    "    print('Счастливый билет')\n",
    "else:\n",
    "    print('Несчастливый билет')"
   ]
  },
  {
   "cell_type": "code",
   "execution_count": 2,
   "metadata": {},
   "outputs": [
    {
     "name": "stdout",
     "output_type": "stream",
     "text": [
      "Счастливый билет\n"
     ]
    }
   ],
   "source": [
    "number = 123321\n",
    "\n",
    "a = str(number)\n",
    "\n",
    "left = int(a[0]) + int(a[1]) + int(a[2])\n",
    "right = int(a[-1]) + int(a[-2]) + int(a[-3])\n",
    "\n",
    "if left == right:\n",
    "    print('Счастливый билет')\n",
    "else:\n",
    "    print('Несчастливый билет')"
   ]
  },
  {
   "cell_type": "markdown",
   "metadata": {},
   "source": [
    "### Задание 6"
   ]
  },
  {
   "cell_type": "code",
   "execution_count": 51,
   "metadata": {},
   "outputs": [
    {
     "name": "stdout",
     "output_type": "stream",
     "text": [
      "Введите тип фигуры  Треугольник\n",
      "Введите длину стороны А:  2\n",
      "Введите длину стороны В:  2\n",
      "Введите длину стороны С:  3\n",
      "Площадь треугольника:  1.984313483298443\n"
     ]
    }
   ],
   "source": [
    "figure = input(str('Введите тип фигуры  '))\n",
    "\n",
    "# Совершенно непонятно почему в условии if если я выбираю в input тип данных int или float у меня вылазит ошибка\n",
    "\n",
    "if figure == 'Круг':\n",
    "    r = input(str('Введите радиус круга:  '))\n",
    "    print('Площадь круга: ', round((3.1416 * float(r)**2), 2))\n",
    "\n",
    "elif figure == 'Треугольник':\n",
    "    a = input(str('Введите длину стороны А:  '))\n",
    "    b = input(str('Введите длину стороны В:  '))\n",
    "    c = input(str('Введите длину стороны С:  '))\n",
    "    p = (float(a) + float(b) + float(c)) / 2\n",
    "    \n",
    "# А здесь никак не получилось пристроить round, почему-то не округляет нормально\n",
    "    \n",
    "    print('Площадь треугольника: ', (float(p) * (float(p) - float(a)) * (float(p) - float(b)) * (float(p) - float(c)))**0.5)\n",
    "          \n",
    "elif figure == 'Прямоугольник':\n",
    "    e = input(str('Введите длину стороны А:  '))\n",
    "    f = input(str('Введите длину стороны В:  '))\n",
    "    print('Площадь прямоугольника: ', round((float(e) * float(f)), 2))\n",
    "\n",
    "else:\n",
    "    print('Выберите Круг, Треугольник или Прямоугольник')"
   ]
  }
 ],
 "metadata": {
  "kernelspec": {
   "display_name": "Python 3",
   "language": "python",
   "name": "python3"
  },
  "language_info": {
   "codemirror_mode": {
    "name": "ipython",
    "version": 3
   },
   "file_extension": ".py",
   "mimetype": "text/x-python",
   "name": "python",
   "nbconvert_exporter": "python",
   "pygments_lexer": "ipython3",
   "version": "3.8.5"
  }
 },
 "nbformat": 4,
 "nbformat_minor": 4
}
