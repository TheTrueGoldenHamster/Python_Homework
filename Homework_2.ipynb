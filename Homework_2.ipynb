{
 "cells": [
  {
   "cell_type": "markdown",
   "metadata": {},
   "source": [
    "### Задание 1"
   ]
  },
  {
   "cell_type": "code",
   "execution_count": 12,
   "metadata": {},
   "outputs": [
    {
     "name": "stdout",
     "output_type": "stream",
     "text": [
      "ol\n"
     ]
    }
   ],
   "source": [
    "word = 'bamboleyio'\n",
    "\n",
    "if len(word) % 2 == 0:\n",
    "    print(word[int(len(word) / 2 - 1)] + word[int(len(word) / 2)])\n",
    "else:\n",
    "    print(word[int(len(word) // 2)])"
   ]
  },
  {
   "cell_type": "code",
   "execution_count": 31,
   "metadata": {},
   "outputs": [
    {
     "name": "stdout",
     "output_type": "stream",
     "text": [
      "k\n"
     ]
    }
   ],
   "source": [
    "word = 'pumpkings'\n",
    "\n",
    "if len(word) % 2 == 0:\n",
    "    print(word[int(len(word) / 2 - 1)] + word[int(len(word) / 2 + 1)])\n",
    "else:\n",
    "    print(word[int(len(word) // 2)])"
   ]
  },
  {
   "cell_type": "markdown",
   "metadata": {},
   "source": [
    "### Задание 2"
   ]
  },
  {
   "cell_type": "code",
   "execution_count": 61,
   "metadata": {},
   "outputs": [
    {
     "name": "stdout",
     "output_type": "stream",
     "text": [
      "Введите число:  3\n",
      "Введите число:  5\n",
      "Введите число:  6\n",
      "Введите число:  0\n",
      "Результат:  14\n"
     ]
    }
   ],
   "source": [
    "a = int(input('Введите число:  '))\n",
    "total = 0\n",
    "while a != 0:\n",
    "    total += a\n",
    "    a = int(input('Введите число:  '))\n",
    "print('Результат: ', total)        "
   ]
  },
  {
   "cell_type": "markdown",
   "metadata": {},
   "source": [
    "### Задание 3"
   ]
  },
  {
   "cell_type": "code",
   "execution_count": 88,
   "metadata": {},
   "outputs": [
    {
     "name": "stdout",
     "output_type": "stream",
     "text": [
      "Идеальные пары:\n",
      "Alex и Emma\n",
      "Arthur и Kate\n",
      "John и Kira\n",
      "Peter и Liza\n",
      "Richard и Trisha\n"
     ]
    }
   ],
   "source": [
    "boys = ['Peter', 'Alex', 'John', 'Arthur', 'Richard']\n",
    "girls = ['Kate', 'Liza', 'Kira', 'Emma', 'Trisha']\n",
    "\n",
    "sorted_boys = sorted(boys)\n",
    "sorted_girls = sorted(girls)\n",
    "\n",
    "if len(boys) == len(girls):\n",
    "    a = zip(sorted_boys, sorted_girls)\n",
    "    b = list(a)\n",
    "    print('Идеальные пары:')\n",
    "    for i in b:\n",
    "        c = list(i)\n",
    "        d = ' и '.join(c)\n",
    "        print(d)\n",
    "else:\n",
    "    print('Внимание, кто-то может остаться без пары!')"
   ]
  },
  {
   "cell_type": "code",
   "execution_count": 87,
   "metadata": {},
   "outputs": [
    {
     "name": "stdout",
     "output_type": "stream",
     "text": [
      "Внимание, кто-то может остаться без пары!\n"
     ]
    }
   ],
   "source": [
    "boys = ['Peter', 'Alex', 'John', 'Arthur', 'Richard', 'Michael']\n",
    "girls = ['Kate', 'Liza', 'Kira', 'Emma', 'Trisha']\n",
    "\n",
    "sorted_boys = sorted(boys)\n",
    "sorted_girls = sorted(girls)\n",
    "\n",
    "if len(boys) == len(girls):\n",
    "    a = zip(sorted_boys, sorted_girls)\n",
    "    b = list(a)\n",
    "    print('Идеальные пары:')\n",
    "    for i in b:\n",
    "        c = list(i)\n",
    "        d = ' и '.join(c)\n",
    "        print(d)\n",
    "else:\n",
    "    print('Внимание, кто-то может остаться без пары!')\n"
   ]
  },
  {
   "cell_type": "markdown",
   "metadata": {},
   "source": [
    "### Задача 4"
   ]
  },
  {
   "cell_type": "code",
   "execution_count": 189,
   "metadata": {},
   "outputs": [
    {
     "name": "stdout",
     "output_type": "stream",
     "text": [
      "Средняя температура в странах:\n",
      "Thailand  -  23.9  C\n",
      "Germany  -  13.8  C\n",
      "Russia  -  3.7  C\n",
      "Poland  -  12.0  C\n"
     ]
    }
   ],
   "source": [
    "countries_temperature = [\n",
    "    ['Thailand', [75.2, 77, 78.8, 73.4, 68, 75.2, 77]],\n",
    "    ['Germany', [57.2, 55.4, 59, 59, 53.6]],\n",
    "    ['Russia', [35.6, 37.4, 39.2, 41, 42.8, 39.2, 35.6]],\n",
    "    ['Poland', [50, 50, 53.6, 57.2, 55.4, 55.4]]\n",
    "]\n",
    "\n",
    "print('Средняя температура в странах:')\n",
    "       \n",
    "for country in countries_temperature:\n",
    "    print(country[0], ' - ', round((sum(country[1]) / len(country[1])-32) * 5 / 9, 1), ' C')"
   ]
  },
  {
   "cell_type": "markdown",
   "metadata": {},
   "source": [
    "### Задание 5"
   ]
  },
  {
   "cell_type": "code",
   "execution_count": 254,
   "metadata": {},
   "outputs": [
    {
     "name": "stdout",
     "output_type": "stream",
     "text": [
      "[['2018-01-01', 'user1', '3'], ['2018-01-07', 'user1', '4'], ['2018-03-29', 'user1', '1'], ['2018-04-04', 'user1', '13'], ['2018-01-05', 'user2', '7'], ['2018-06-14', 'user3', '4'], ['2018-07-02', 'user3', '10'], ['2018-03-21', 'user4', '19'], ['2018-03-22', 'user4', '4'], ['2018-04-22', 'user4', '8'], ['2018-05-03', 'user4', '9'], ['2018-05-11', 'user4', '11']]\n",
      "93\n"
     ]
    }
   ],
   "source": [
    "stream = [\n",
    "    '2018-01-01,user1,3',\n",
    "    '2018-01-07,user1,4',\n",
    "    '2018-03-29,user1,1',\n",
    "    '2018-04-04,user1,13',\n",
    "    '2018-01-05,user2,7',\n",
    "    '2018-06-14,user3,4',\n",
    "    '2018-07-02,user3,10',\n",
    "    '2018-03-21,user4,19',\n",
    "    '2018-03-22,user4,4',\n",
    "    '2018-04-22,user4,8',\n",
    "    '2018-05-03,user4,9',\n",
    "    '2018-05-11,user4,11',\n",
    "]\n",
    "\n",
    "# print('Среднее количество просмотров на уникального пользователя: ')\n",
    "\n",
    "splitted_data = []\n",
    "i = 0\n",
    "for element in stream:\n",
    "    splitted_data.append(stream[i].replace(',', ' ').split(' '))\n",
    "    i += 1\n",
    "    \n",
    "print(splitted_data)\n",
    "\n",
    "# Задание не смог добить, идея такова, что я перевожу список со строками в список с вложенными списками (это  я сделал)\n",
    "# Затем я считаю общее количество просмотров  всписке (тоже сделал)\n",
    "# После этого я хочу создать два списка из пользователей и просмотров и задать счётчики уникальных пользователей,\n",
    "# с последующим суммированием просмотров до переключения счётчика когда счётчик переключается, и здесь я завис.\n",
    "# Оставлю эту задачу на потом когда пройду дальше по курсу и потренируюсь в алгоритмах и коде.\n",
    "\n",
    "total = 0\n",
    "for count in splitted_data:\n",
    "    # print(count)\n",
    "    # break\n",
    "    total += int(count[2])\n",
    "    \n",
    "print(total)\n",
    "\n"
   ]
  },
  {
   "cell_type": "markdown",
   "metadata": {},
   "source": [
    "### Задание 6"
   ]
  },
  {
   "cell_type": "code",
   "execution_count": 43,
   "metadata": {},
   "outputs": [
    {
     "name": "stdout",
     "output_type": "stream",
     "text": [
      "Введите числа: 1 3 9 5 1 3 10 5 85 105 85\n",
      "1 3 5 85 "
     ]
    }
   ],
   "source": [
    "user_list = input('Введите числа: ')\n",
    "# user_list = '1 5 9 1 6 3 4 1 5 3 3 45'\n",
    "\n",
    "splitted_user_list = user_list.split(' ')\n",
    "a = splitted_user_list\n",
    "\n",
    "unique_values = []\n",
    "doubles = []\n",
    "for element in a:\n",
    "    if element not in unique_values:\n",
    "        unique_values.append(element)\n",
    "    else:\n",
    "        doubles.append(element)\n",
    "        \n",
    "unique_doubles = []\n",
    "for element in doubles:\n",
    "    if element in unique_doubles:\n",
    "        continue\n",
    "    else:\n",
    "        unique_doubles.append(element)\n",
    "        \n",
    "for i in unique_doubles:        \n",
    "    print(i, end=' ')\n"
   ]
  },
  {
   "cell_type": "code",
   "execution_count": null,
   "metadata": {},
   "outputs": [],
   "source": []
  }
 ],
 "metadata": {
  "kernelspec": {
   "display_name": "Python 3",
   "language": "python",
   "name": "python3"
  },
  "language_info": {
   "codemirror_mode": {
    "name": "ipython",
    "version": 3
   },
   "file_extension": ".py",
   "mimetype": "text/x-python",
   "name": "python",
   "nbconvert_exporter": "python",
   "pygments_lexer": "ipython3",
   "version": "3.8.5"
  }
 },
 "nbformat": 4,
 "nbformat_minor": 4
}
