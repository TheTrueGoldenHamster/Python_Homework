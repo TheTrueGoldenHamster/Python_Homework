{
 "cells": [
  {
   "cell_type": "markdown",
   "metadata": {},
   "source": [
    "### Задание 1"
   ]
  },
  {
   "cell_type": "code",
   "execution_count": 10,
   "metadata": {},
   "outputs": [
    {
     "name": "stdout",
     "output_type": "stream",
     "text": [
      "{98, 35, 15, 213, 54, 119}\n"
     ]
    }
   ],
   "source": [
    "ids = {'user1': [213, 213, 213, 15, 213], \n",
    "       'user2': [54, 54, 119, 119, 119], \n",
    "       'user3': [213, 98, 98, 35]}\n",
    "\n",
    "# ids['user1']\n",
    "# ids.get('user4', 'Nope')\n",
    "\n",
    "some_data = []\n",
    "for value in ids.values():\n",
    "    some_data += value\n",
    "# print(some_data)\n",
    "a = set(some_data)\n",
    "print(a)\n",
    "\n"
   ]
  },
  {
   "cell_type": "markdown",
   "metadata": {},
   "source": [
    "### Задание 2"
   ]
  },
  {
   "cell_type": "code",
   "execution_count": 22,
   "metadata": {},
   "outputs": [
    {
     "name": "stdout",
     "output_type": "stream",
     "text": [
      "Поисковых запросов, содержащих 3 слов(а): 57.14  %\n",
      "Поисковых запросов, содержащих 2 слов(а): 42.86  %\n"
     ]
    }
   ],
   "source": [
    "queries = [\n",
    "    'смотреть сериалы онлайн',\n",
    "    'новости спорта',\n",
    "    'афиша кино',\n",
    "    'курс доллара',\n",
    "    'сериалы этим летом',\n",
    "    'курс по питону',\n",
    "    'сериалы про спорт',\n",
    "]\n",
    "\n",
    "data_set = []\n",
    "for i in queries:\n",
    "    data_set.append(i.split(','))\n",
    "    \n",
    "total = 0\n",
    "for element in data_set:\n",
    "    total += data_set.count(element)\n",
    "    \n",
    "data_set_2 = []\n",
    "for i in data_set:\n",
    "    for j in i:\n",
    "        data_set_2.append(j.split(' '))\n",
    "        \n",
    "dict_set = {}\n",
    "for i in data_set_2:\n",
    "    words_count = len(i)\n",
    "    dict_set.setdefault(words_count, 0)\n",
    "    dict_set[words_count] += 1\n",
    "\n",
    "for key, value in dict_set.items():\n",
    "    print('Поисковых запросов, содержащих', key, 'слов(а):', round(float(value) / float(total) * 100, 2), ' %')"
   ]
  },
  {
   "cell_type": "markdown",
   "metadata": {},
   "source": [
    "### Задание 3"
   ]
  },
  {
   "cell_type": "code",
   "execution_count": 54,
   "metadata": {},
   "outputs": [
    {
     "data": {
      "text/plain": [
       "{'vk': {'revenue': 103, 'cost': 98, 'ROI': 5.1},\n",
       " 'yandex': {'revenue': 179, 'cost': 153, 'ROI': 16.99},\n",
       " 'facebook': {'revenue': 103, 'cost': 110, 'ROI': -6.36},\n",
       " 'adwords': {'revenue': 35, 'cost': 34, 'ROI': 2.94},\n",
       " 'twitter': {'revenue': 11, 'cost': 24, 'ROI': -54.17}}"
      ]
     },
     "execution_count": 54,
     "metadata": {},
     "output_type": "execute_result"
    }
   ],
   "source": [
    "results = {\n",
    "    'vk': {'revenue': 103, 'cost': 98},\n",
    "    'yandex': {'revenue': 179, 'cost': 153},\n",
    "    'facebook': {'revenue': 103, 'cost': 110},\n",
    "    'adwords': {'revenue': 35, 'cost': 34},\n",
    "    'twitter': {'revenue': 11, 'cost': 24},\n",
    "}\n",
    "\n",
    "for value in results.values():\n",
    "       value.setdefault('ROI', round(((float(value['revenue']) / float(value['cost'])) - 1) * 100, 2))\n",
    "\n",
    "results     "
   ]
  },
  {
   "cell_type": "markdown",
   "metadata": {},
   "source": [
    "### Задание 4"
   ]
  },
  {
   "cell_type": "code",
   "execution_count": 19,
   "metadata": {},
   "outputs": [
    {
     "name": "stdout",
     "output_type": "stream",
     "text": [
      "Максимальный объём продаж на рекламном канале:  vk\n"
     ]
    }
   ],
   "source": [
    "stats = {'facebook': 55, 'yandex': 115, 'vk': 120, 'google': 99, 'email': 42, 'ok': 98}\n",
    "\n",
    "values = []\n",
    "\n",
    "for value in stats.values():\n",
    "    values.append(value)\n",
    "    \n",
    "# print(values)\n",
    "\n",
    "maximum = max(values)\n",
    "\n",
    "for c, v in stats.items():\n",
    "    if v == maximum:\n",
    "        print('Максимальный объём продаж на рекламном канале: ', c)\n",
    "    else:\n",
    "        continue\n"
   ]
  },
  {
   "cell_type": "markdown",
   "metadata": {},
   "source": [
    "### Задание 5"
   ]
  },
  {
   "cell_type": "code",
   "execution_count": 53,
   "metadata": {},
   "outputs": [
    {
     "data": {
      "text/plain": [
       "{'2018-01-01': {'yandex': {'cpc': 100}}}"
      ]
     },
     "execution_count": 53,
     "metadata": {},
     "output_type": "execute_result"
    }
   ],
   "source": [
    "# На этой задаче застрял, подсмотрел решение на вебинаре, в свободное время подумаю над другими вариантами\n",
    "\n",
    "my_list = ['2018-01-01', 'yandex', 'cpc', 100]\n",
    "\n",
    "le = my_list[-1]\n",
    "\n",
    "for i in reversed(my_list[:-1]):\n",
    "    le = {i:le}\n",
    "le"
   ]
  },
  {
   "cell_type": "markdown",
   "metadata": {},
   "source": [
    "### Задание 6"
   ]
  },
  {
   "cell_type": "code",
   "execution_count": 52,
   "metadata": {},
   "outputs": [
    {
     "name": "stdout",
     "output_type": "stream",
     "text": [
      "Введите количество порций: 1\n",
      "Сыр: 70 гр\n",
      "Томаты: 2 шт\n",
      "Огурцы: 20 гр\n",
      "Маслины: 10 гр\n",
      "Оливковое Масло: 20 мл\n",
      "Салат: 10 гр\n",
      "Перец: 20 гр\n",
      "Колбаса: 30 гр\n",
      "Бекон: 30 гр\n",
      "Оливки: 10 гр\n",
      "Томаты: 20 гр\n",
      "Тесто: 100 гр\n",
      "Лимон: 1 шт\n",
      "Вода: 200 мл\n",
      "Сахар: 10 гр\n",
      "Лайм: 20 гр\n"
     ]
    }
   ],
   "source": [
    "# Так же подсмотрел решение на вебинаре, своим умом дошёл до двойного цикла, но застрял на моменте создания двойного ключа, не\n",
    "# принял во внимание кортеж.\n",
    "\n",
    "cook_book = {\n",
    "  'салат': [\n",
    "     {'ingridient_name': 'сыр', 'quantity': 50, 'measure': 'гр'},\n",
    "     {'ingridient_name': 'томаты', 'quantity': 2, 'measure': 'шт'},\n",
    "     {'ingridient_name': 'огурцы', 'quantity': 20, 'measure': 'гр'},\n",
    "     {'ingridient_name': 'маслины', 'quantity': 10, 'measure': 'гр'},\n",
    "     {'ingridient_name': 'оливковое масло', 'quantity': 20, 'measure': 'мл'},\n",
    "     {'ingridient_name': 'салат', 'quantity': 10, 'measure': 'гр'},\n",
    "     {'ingridient_name': 'перец', 'quantity': 20, 'measure': 'гр'}\n",
    "    ],\n",
    "  'пицца': [\n",
    "     {'ingridient_name': 'сыр', 'quantity': 20, 'measure': 'гр'},\n",
    "     {'ingridient_name': 'колбаса', 'quantity': 30, 'measure': 'гр'},\n",
    "     {'ingridient_name': 'бекон', 'quantity': 30, 'measure': 'гр'},\n",
    "     {'ingridient_name': 'оливки', 'quantity': 10, 'measure': 'гр'},\n",
    "     {'ingridient_name': 'томаты', 'quantity': 20, 'measure': 'гр'},\n",
    "     {'ingridient_name': 'тесто', 'quantity': 100, 'measure': 'гр'},   \n",
    "    ],\n",
    "  'лимонад': [\n",
    "     {'ingridient_name': 'лимон', 'quantity': 1, 'measure': 'шт'},\n",
    "     {'ingridient_name': 'вода', 'quantity': 200, 'measure': 'мл'},\n",
    "     {'ingridient_name': 'сахар', 'quantity': 10, 'measure': 'гр'},\n",
    "     {'ingridient_name': 'лайм', 'quantity': 20, 'measure': 'гр'},    \n",
    "    ]\n",
    "}\n",
    "\n",
    "user_input = int(input('Введите количество порций: '))\n",
    "\n",
    "\n",
    "shop_list = {}\n",
    "\n",
    "for dish in cook_book.values():\n",
    "       for ingridient in dish:\n",
    "            if (ingridient['ingridient_name'], ingridient['measure']) not in shop_list:\n",
    "                shop_list[(ingridient['ingridient_name'], ingridient['measure'])] = ingridient['quantity'] * user_input\n",
    "            else:\n",
    "                shop_list[(ingridient['ingridient_name'], ingridient['measure'])] += ingridient['quantity'] * user_input\n",
    "# shop_list\n",
    "\n",
    "for name, q in shop_list.items():\n",
    "    print(f'{name[0].title()}: {q} {name[1]}')"
   ]
  },
  {
   "cell_type": "code",
   "execution_count": null,
   "metadata": {},
   "outputs": [],
   "source": []
  },
  {
   "cell_type": "code",
   "execution_count": null,
   "metadata": {},
   "outputs": [],
   "source": []
  }
 ],
 "metadata": {
  "kernelspec": {
   "display_name": "Python 3",
   "language": "python",
   "name": "python3"
  },
  "language_info": {
   "codemirror_mode": {
    "name": "ipython",
    "version": 3
   },
   "file_extension": ".py",
   "mimetype": "text/x-python",
   "name": "python",
   "nbconvert_exporter": "python",
   "pygments_lexer": "ipython3",
   "version": "3.8.5"
  }
 },
 "nbformat": 4,
 "nbformat_minor": 4
}
